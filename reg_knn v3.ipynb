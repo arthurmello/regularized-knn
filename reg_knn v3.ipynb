{
 "cells": [
  {
   "cell_type": "markdown",
   "id": "b19a89b4",
   "metadata": {},
   "source": [
    "# Regularized K-nearest neighbors algorithm - experimental results"
   ]
  },
  {
   "cell_type": "markdown",
   "id": "043fa1d5",
   "metadata": {},
   "source": [
    "This code aims to implement a regularized version of the K-Nearest Neighbors classification algorithm, comparing it to the non-regularized version."
   ]
  },
  {
   "cell_type": "markdown",
   "id": "eee89623",
   "metadata": {},
   "source": [
    "## Importing libraries"
   ]
  },
  {
   "cell_type": "code",
   "execution_count": 103,
   "id": "921259f0",
   "metadata": {},
   "outputs": [],
   "source": [
    "from sklearn.metrics import mean_squared_error\n",
    "from sklearn.model_selection import train_test_split\n",
    "from sklearn.datasets import load_diabetes\n",
    "\n",
    "import pandas as pd\n",
    "import numpy as np\n",
    "\n",
    "from scipy.stats import pearsonr\n",
    "from scipy.stats import mode\n",
    "\n",
    "import matplotlib.pyplot as plt"
   ]
  },
  {
   "cell_type": "markdown",
   "id": "14232d07",
   "metadata": {},
   "source": [
    "## Loading data"
   ]
  },
  {
   "cell_type": "code",
   "execution_count": 104,
   "id": "b7cffb25",
   "metadata": {},
   "outputs": [
    {
     "name": "stdout",
     "output_type": "stream",
     "text": [
      "Data shape: (442, 10)\n"
     ]
    }
   ],
   "source": [
    "X = load_diabetes().data\n",
    "y = load_diabetes().target\n",
    "\n",
    "print(\"Data shape:\", X.shape)\n",
    "\n",
    "X_train, X_test, y_train, y_test = train_test_split(\n",
    "    X, y, test_size=0.33, random_state=42)"
   ]
  },
  {
   "cell_type": "markdown",
   "id": "d0a140ae",
   "metadata": {},
   "source": [
    "## Defining functions"
   ]
  },
  {
   "cell_type": "code",
   "execution_count": 105,
   "id": "464e7cf9",
   "metadata": {},
   "outputs": [],
   "source": [
    "def regularization_coeffients(X, target, lambd=1):\n",
    "    \"\"\"\n",
    "    regularization_coeffients calculates the regularization coefficients\n",
    "    (i.e. the absolute value of the Pearson correlation coefficient)\n",
    "    for a given set of features and a target variable\n",
    "\n",
    "    :X: explanatory features\n",
    "    :target: target variable\n",
    "    :lambd: regularization parameter\n",
    "    \n",
    "    :return: regularization coefficients\n",
    "    \"\"\" \n",
    "    reg_coefficients = []\n",
    "    for feat in X.transpose():\n",
    "        r = abs(pearsonr(feat, target)[0])**lambd\n",
    "        reg_coefficients.append(r)\n",
    "        \n",
    "    return reg_coefficients\n",
    "\n",
    "def reg_minkowski(a, b, p, w=1):\n",
    "    \"\"\"\n",
    "    reg_minkowski calculates the regularized version of\n",
    "    the Minkowski distance between \"a\" and \"b\"\n",
    "\n",
    "    :a: first point\n",
    "    :b: second point\n",
    "    :p: order of the distance (if p=1, Minkwoski=Manhattan; if p=2, Minkowski=Euclidean)\n",
    "    :w: regularization coefficients\n",
    "    \n",
    "    :return: regularized Minkowski distance \n",
    "    \"\"\" \n",
    "    dist = np.sum((w*abs(a-b))**p)**(1/p)\n",
    "    return dist\n",
    "\n",
    "def reg_mahalanobis(a, b, V, w=1):\n",
    "    \"\"\"\n",
    "    reg_mahalanobis calculates the regularized version of\n",
    "    the Mahalanobis distance between \"a\" and \"b\"\n",
    "\n",
    "    :a: first point\n",
    "    :b: second point\n",
    "    :V: covariance matrix\n",
    "    :w: regularization coefficients\n",
    "    \n",
    "    :return: regularized Mahalanobis distance \n",
    "    \"\"\" \n",
    "    V_inv = np.linalg.inv(V)\n",
    "    dist = np.sqrt(np.dot(np.dot(w*(a-b),V_inv),(w*(a-b)).T))\n",
    "    return dist\n",
    "\n",
    "def predict(x_train, y_train, x_input, k, w, distance_metric='minkowski', p=2):\n",
    "    \"\"\"\n",
    "    predict is a regularized implementation of the K-Nearest Neighbors classification algorithm\n",
    "\n",
    "    :X_train: features in the training set\n",
    "    :y_train: target variable in the training set\n",
    "    :k: number of k in \"k-nearest neighbors\"\n",
    "    :w: regularization coefficients\n",
    "    :distance_metric: distance metric (can be 'minkowski' or 'mahalanobis') \n",
    "    \n",
    "    :return: labels for X_train\n",
    "    \"\"\" \n",
    "    V = np.cov(x_train.T)\n",
    "    \n",
    "    op_labels = []\n",
    "     \n",
    "    #Loop through the Datapoints to be classified\n",
    "    for item in x_input: \n",
    "         \n",
    "        #Array to store distances\n",
    "        point_dist = []\n",
    "         \n",
    "        #Loop through each training Data\n",
    "        for j in range(len(x_train)):\n",
    "            if distance_metric == 'minkowski':\n",
    "                distances = reg_minkowski(np.array(x_train[j,:]), item, p=p, w=w)\n",
    "            elif distance_metric == 'mahalanobis':\n",
    "                distances = reg_mahalanobis(np.array(x_train[j,:]), item, V=V, w=w)\n",
    "            else:\n",
    "                raise AssertionError(\"Unexpected value for 'distance_metric': \"+str(distance_metric))\n",
    "            \n",
    "            #Calculating the distance\n",
    "            point_dist.append(distances) \n",
    "        point_dist = np.array(point_dist) \n",
    "        \n",
    "        #Sorting the array while preserving the index\n",
    "        #Keeping the first K datapoints\n",
    "        dist = np.argsort(point_dist)[:k] \n",
    "        \n",
    "        #Labels of the K datapoints from above\n",
    "        labels = y_train[dist]\n",
    "         \n",
    "        #Median value\n",
    "        lab = np.median(labels)\n",
    "        op_labels.append(lab)\n",
    " \n",
    "    return op_labels\n",
    "\n",
    "def search_k(k_list, X_train, y_train, X_test, w, distance_metric, p=2):\n",
    "    \"\"\"\n",
    "    search_k calculates MSE scores for each given k \n",
    "    \n",
    "    :k_list: search space for k\n",
    "    :X_train: features in the training set\n",
    "    :y_train: target variable in the training set\n",
    "    :w: regularization coefficients\n",
    "    :distance_metric: distance metric (can be 'minkowski' or 'mahalanobis') \n",
    "    \n",
    "    :return: a dictionary of the score for each k\n",
    "    \"\"\" \n",
    "    scores = {}\n",
    "    for k in k_list:\n",
    "        pred = predict(X_train, y_train, X_test, k, w, distance_metric, p=p)\n",
    "        scores[k] = mean_squared_error(y_test, pred)\n",
    "        \n",
    "    return scores\n",
    "\n",
    "def plot_results(lambdas, scores, benchmark, filename):\n",
    "    \"\"\"\n",
    "    plot_results plots scores vs log(lambdas) for comparison with a benchmark\n",
    "    \n",
    "    :lambdas: values of lambdas used for scoring\n",
    "    :scores: scores obtained from the lambda values\n",
    "    :benchmark: benchmark for comparison\n",
    "    \n",
    "    :return: plots a line chart and returns None\n",
    "    \"\"\" \n",
    "    plt.plot(np.log(lambdas), scores, 'g', label='Regularized')\n",
    "    plt.plot(np.log(lambdas), len(lambdas)*[benchmark], 'r', label='Non-regularized')\n",
    "    plt.xlabel('log(Lambda)')\n",
    "    plt.ylabel('MSE')\n",
    "    plt.legend()\n",
    "    plt.savefig('images/'+filename)\n",
    "    plt.show()\n",
    "    \n",
    "    return None"
   ]
  },
  {
   "cell_type": "markdown",
   "id": "fab9c8b7",
   "metadata": {},
   "source": [
    "## Applying functions and analysing results"
   ]
  },
  {
   "cell_type": "code",
   "execution_count": 106,
   "id": "e9787a27",
   "metadata": {},
   "outputs": [],
   "source": [
    "# Search space\n",
    "lambdas = [0.01, 0.1, 1, 1, 100, 1000, 10000]\n",
    "k_range = range(1,15)"
   ]
  },
  {
   "cell_type": "markdown",
   "id": "583fd66e",
   "metadata": {},
   "source": [
    "## Manhattan distance"
   ]
  },
  {
   "cell_type": "code",
   "execution_count": 107,
   "id": "739e9b60",
   "metadata": {},
   "outputs": [],
   "source": [
    "distance_metric = 'minkowski'\n",
    "p = 1"
   ]
  },
  {
   "cell_type": "markdown",
   "id": "cde85edc",
   "metadata": {},
   "source": [
    "### Choosing K"
   ]
  },
  {
   "cell_type": "code",
   "execution_count": 108,
   "id": "eabe3115",
   "metadata": {},
   "outputs": [
    {
     "name": "stdout",
     "output_type": "stream",
     "text": [
      "Min error:3278.8972602739727\n",
      "Best K:13\n"
     ]
    }
   ],
   "source": [
    "errors = search_k(k_range, X_train, y_train, X_test, w=1, distance_metric=distance_metric)\n",
    "min_error = min(errors.values())\n",
    "best_k = min(errors, key=errors.get)\n",
    "\n",
    "print(\"Min error:\"+str(min_error))\n",
    "print(\"Best K:\"+str(best_k))"
   ]
  },
  {
   "cell_type": "markdown",
   "id": "db1ba4bf",
   "metadata": {},
   "source": [
    "### Checking lambda values vs benchmark"
   ]
  },
  {
   "cell_type": "code",
   "execution_count": 109,
   "id": "722b7354",
   "metadata": {},
   "outputs": [
    {
     "data": {
      "image/png": "[encoded data removed]",
      "text/plain": [
       "<Figure size 432x288 with 1 Axes>"
      ]
     },
     "metadata": {
      "needs_background": "light"
     },
     "output_type": "display_data"
    },
    {
     "name": "stdout",
     "output_type": "stream",
     "text": [
      "Min error:2827.1917808219177\n"
     ]
    }
   ],
   "source": [
    "y_pred_non_reg = predict(X_train, y_train, X_test, k=best_k, w=1, distance_metric=distance_metric)\n",
    "benchmark = mean_squared_error(y_test, y_pred_non_reg)\n",
    "\n",
    "errors = []\n",
    "for i in lambdas:\n",
    "    reg_coeff = regularization_coeffients(X_train, y_train, lambd=i)\n",
    "    y_pred_reg = predict(X_train, y_train, X_test, k=best_k, w=reg_coeff, distance_metric=distance_metric)\n",
    "    errors.append(mean_squared_error(y_test, y_pred_reg))\n",
    "    \n",
    "plot_results(lambdas, errors, benchmark, filename='manhattan.png')\n",
    "min_error = min(errors)\n",
    "print(\"Min error:\"+str(min_error))"
   ]
  },
  {
   "cell_type": "markdown",
   "id": "0b3739be",
   "metadata": {},
   "source": [
    "## Euclidean distance"
   ]
  },
  {
   "cell_type": "code",
   "execution_count": 110,
   "id": "670e7705",
   "metadata": {},
   "outputs": [],
   "source": [
    "distance_metric = 'minkowski'\n",
    "p = 2"
   ]
  },
  {
   "cell_type": "markdown",
   "id": "9dc4bd3a",
   "metadata": {},
   "source": [
    "### Choosing K"
   ]
  },
  {
   "cell_type": "code",
   "execution_count": 111,
   "id": "a5cc8ba4",
   "metadata": {},
   "outputs": [
    {
     "name": "stdout",
     "output_type": "stream",
     "text": [
      "Min error:3278.8972602739727\n",
      "Best K:13\n"
     ]
    }
   ],
   "source": [
    "errors = search_k(k_range, X_train, y_train, X_test, w=1, distance_metric=distance_metric)\n",
    "min_error = min(errors.values())\n",
    "best_k = min(errors, key=errors.get)\n",
    "\n",
    "print(\"Min error:\"+str(min_error))\n",
    "print(\"Best K:\"+str(best_k))"
   ]
  },
  {
   "cell_type": "markdown",
   "id": "7256cad3",
   "metadata": {},
   "source": [
    "### Checking lambda values vs benchmark"
   ]
  },
  {
   "cell_type": "code",
   "execution_count": 112,
   "id": "0a921182",
   "metadata": {},
   "outputs": [
    {
     "data": {
      "image/png": "[encoded data removed]",
      "text/plain": [
       "<Figure size 432x288 with 1 Axes>"
      ]
     },
     "metadata": {
      "needs_background": "light"
     },
     "output_type": "display_data"
    },
    {
     "name": "stdout",
     "output_type": "stream",
     "text": [
      "Min error:2827.1917808219177\n"
     ]
    }
   ],
   "source": [
    "y_pred_non_reg = predict(X_train, y_train, X_test, k=best_k, w=1, distance_metric=distance_metric)\n",
    "benchmark = mean_squared_error(y_test, y_pred_non_reg)\n",
    "\n",
    "errors = []\n",
    "for i in lambdas:\n",
    "    reg_coeff = regularization_coeffients(X_train, y_train, lambd=i)\n",
    "    y_pred_reg = predict(X_train, y_train, X_test, k=best_k, w=reg_coeff, distance_metric=distance_metric)\n",
    "    errors.append(mean_squared_error(y_test, y_pred_reg))\n",
    "    \n",
    "plot_results(lambdas, errors, benchmark, filename='euclidean.png')\n",
    "min_error = min(errors)\n",
    "print(\"Min error:\"+str(min_error))"
   ]
  },
  {
   "cell_type": "markdown",
   "id": "e0bbd8bc",
   "metadata": {},
   "source": [
    "## Mahalanobis distance"
   ]
  },
  {
   "cell_type": "code",
   "execution_count": 113,
   "id": "a46c8881",
   "metadata": {},
   "outputs": [],
   "source": [
    "distance_metric = 'mahalanobis'"
   ]
  },
  {
   "cell_type": "markdown",
   "id": "454bc415",
   "metadata": {},
   "source": [
    "### Choosing K"
   ]
  },
  {
   "cell_type": "code",
   "execution_count": 114,
   "id": "7c6021c7",
   "metadata": {},
   "outputs": [
    {
     "name": "stdout",
     "output_type": "stream",
     "text": [
      "Min error:3482.4109589041095\n",
      "Best K:13\n"
     ]
    }
   ],
   "source": [
    "errors = search_k(k_range, X_train, y_train, X_test, w=1, distance_metric=distance_metric)\n",
    "min_error = min(errors.values())\n",
    "best_k = min(errors, key=errors.get)\n",
    "\n",
    "print(\"Min error:\"+str(min_error))\n",
    "print(\"Best K:\"+str(best_k))"
   ]
  },
  {
   "cell_type": "markdown",
   "id": "69dec1a2",
   "metadata": {},
   "source": [
    "### Checking lambda values vs benchmark"
   ]
  },
  {
   "cell_type": "code",
   "execution_count": 115,
   "id": "1fe07655",
   "metadata": {},
   "outputs": [
    {
     "data": {
      "image/png": "[encoded data removed]",
      "text/plain": [
       "<Figure size 432x288 with 1 Axes>"
      ]
     },
     "metadata": {
      "needs_background": "light"
     },
     "output_type": "display_data"
    },
    {
     "name": "stdout",
     "output_type": "stream",
     "text": [
      "Min error:3314.0205479452056\n"
     ]
    }
   ],
   "source": [
    "y_pred_non_reg = predict(X_train, y_train, X_test, k=best_k, w=1, distance_metric=distance_metric)\n",
    "benchmark = mean_squared_error(y_test, y_pred_non_reg)\n",
    "\n",
    "errors = []\n",
    "for i in lambdas:\n",
    "    reg_coeff = regularization_coeffients(X_train, y_train, lambd=i)\n",
    "    y_pred_reg = predict(X_train, y_train, X_test, k=best_k, w=reg_coeff, distance_metric=distance_metric)\n",
    "    errors.append(mean_squared_error(y_test, y_pred_reg))\n",
    "    \n",
    "plot_results(lambdas, errors, benchmark, filename='mahalanobis.png')\n",
    "min_error = min(errors)\n",
    "print(\"Min error:\"+str(min_error))"
   ]
  }
 ],
 "metadata": {
  "kernelspec": {
   "display_name": "Python 3",
   "language": "python",
   "name": "python3"
  },
  "language_info": {
   "codemirror_mode": {
    "name": "ipython",
    "version": 3
   },
   "file_extension": ".py",
   "mimetype": "text/x-python",
   "name": "python",
   "nbconvert_exporter": "python",
   "pygments_lexer": "ipython3",
   "version": "3.8.8"
  }
 },
 "nbformat": 4,
 "nbformat_minor": 5
}
